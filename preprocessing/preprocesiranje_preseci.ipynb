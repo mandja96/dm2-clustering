{
 "cells": [
  {
   "cell_type": "code",
   "execution_count": 5,
   "metadata": {},
   "outputs": [],
   "source": [
    "import os\n",
    "import pandas as pd\n",
    "import numpy as np\n",
    "import time"
   ]
  },
  {
   "cell_type": "code",
   "execution_count": 9,
   "metadata": {},
   "outputs": [],
   "source": [
    "data_folders = ['GSM3511735', 'GSM3511747', 'GSM3511752', 'GSM3511757', 'GSM3511762',\n",
    "                'GSM3511766', 'GSM3721449', 'GSM3721453', 'GSM3721454', 'GSM3721455', \n",
    "                'GSM3721457', 'GSM3721458', 'GSM3721460', 'GSM3721462', \n",
    "                'GSM3721464',\n",
    "               \n",
    "                'GSM3511738', 'GSM3511741', 'GSM3511749', 'GSM3511754', 'GSM3511760', \n",
    "                'GSM3721445', 'GSM3721447', 'GSM3721448', 'GSM3721450', 'GSM3721451', \n",
    "                'GSM3721452', 'GSM3721456', 'GSM3721459', 'GSM3721461', 'GSM3721463', \n",
    "                'GSM3892576',\n",
    "                \n",
    "                'GSM3892571', 'GSM3892570'               \n",
    "               ]"
   ]
  },
  {
   "cell_type": "code",
   "execution_count": 29,
   "metadata": {},
   "outputs": [],
   "source": [
    "genes_set_intersect = None\n",
    "folder_path = os.getcwd()\n",
    "# print(folder_path)\n",
    "\n",
    "for folder in data_folders:     \n",
    "    file_names = os.listdir(os.path.join(folder_path, folder))\n",
    "    txt_path = \"\"\n",
    "    \n",
    "    for file in file_names:\n",
    "        if(file[0:5] == \"genes\"):\n",
    "            txt_path = os.path.join(os.path.join(folder_path, folder), file)\n",
    "#             print(txt_path)\n",
    "            \n",
    "            if genes_set_intersect == None:\n",
    "                genes_set_intersect = set([line.rstrip('\\n') for line in open(txt_path)])\n",
    "            else:\n",
    "                gene_file_set = set([line.rstrip('\\n') for line in open(txt_path)])\n",
    "                genes_set_intersect = genes_set_intersect.intersection(gene_file_set)\n",
    "    \n",
    "### Čuvam spisak gena iz ovog fajla\n",
    "file_name = folder_path + \"/genes_intersection.txt\"\n",
    "with open(file_name, 'w') as output:\n",
    "    for row in genes_set_intersect:\n",
    "        output.write(str(row) + '\\n')"
   ]
  },
  {
   "cell_type": "code",
   "execution_count": 30,
   "metadata": {},
   "outputs": [
    {
     "data": {
      "text/plain": [
       "'/Users/mandja96/Desktop/Skripta/genes_intersection.txt'"
      ]
     },
     "execution_count": 30,
     "metadata": {},
     "output_type": "execute_result"
    }
   ],
   "source": [
    "file_name"
   ]
  },
  {
   "cell_type": "code",
   "execution_count": null,
   "metadata": {},
   "outputs": [],
   "source": []
  }
 ],
 "metadata": {
  "kernelspec": {
   "display_name": "Python 3",
   "language": "python",
   "name": "python3"
  },
  "language_info": {
   "codemirror_mode": {
    "name": "ipython",
    "version": 3
   },
   "file_extension": ".py",
   "mimetype": "text/x-python",
   "name": "python",
   "nbconvert_exporter": "python",
   "pygments_lexer": "ipython3",
   "version": "3.7.6"
  }
 },
 "nbformat": 4,
 "nbformat_minor": 2
}
